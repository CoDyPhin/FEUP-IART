{
 "cells": [
  {
   "cell_type": "markdown",
   "metadata": {},
   "source": [
    "# Artificial Intelligence- Supervised learning"
   ]
  },
  {
   "cell_type": "markdown",
   "metadata": {},
   "source": [
    "**It is recommended to [view this notebook in nbviewer](http://nbviewer.ipython.org/github/rhiever/Data-Analysis-and-Machine-Learning-Projects/blob/master/example-data-science-notebook/Example%20Machine%20Learning%20Notebook.ipynb) for the best viewing experience.**\n",
    "\n",
    "**You can also [execute the code in this notebook on Binder](https://mybinder.org/v2/gh/rhiever/Data-Analysis-and-Machine-Learning-Projects/master?filepath=example-data-science-notebook%2FExample%20Machine%20Learning%20Notebook.ipynb) - no local installation required.**"
   ]
  },
  {
   "cell_type": "markdown",
   "metadata": {},
   "source": [
    "## Introduction\n",
    "\n",
    "[[ go back to the top ]](#Table-of-contents)\n",
    "\n",
    "Machine learning is an application of artificial intelligence (AI) that provides systems the ability to automatically learn and improve from experience without being explicitly programmed.\n",
    "In this notebook, we will be using Supervised learning to predict that learns the difference between stocks and which ones will be worth buying, based on financial indicators given by the 10-k fillings."
   ]
  },
  {
   "cell_type": "markdown",
   "metadata": {},
   "source": [
    "## The problem domain\n",
    "\n",
    "[[ go back to the top ]](#Table-of-contents)\n",
    "\n",
    "In this first approach to this data analysis problem, we need to specify what is the problem we want to solve, as well as defining a measure the success of the solution found. To help us accomplish that, we will go through some questions given by the data analysis checklist."
   ]
  },
  {
   "cell_type": "markdown",
   "metadata": {},
   "source": [
    "**Did you specify the type of data analytic question (e.g. exploration, association causality) before touching the data?** \n",
    "\n",
    ">Our goal in this project is to classify stocks into 2 classes (0, if the their price will decrease in 2019, or 1 otherwise). This classification will be based on the details of each company given by their 10-k fillings during 2018.\n",
    "\n",
    "**Did you define the metric for success before beginning?**\n",
    "\n",
    ">Let's do that now. Since we are performing a classification, we can use accuracy (the fraction of correctly classified classes), to define a metric for the quality of our algorithm. After some research, we discovered that, in the long term, an algorithm that predicts stocks trend with less than 65 % of accuracy will underperform buy and hold strategy. We will try to match or beat this accuracy for the values of 2019.\n",
    "\n",
    "**Did you record the experimental design?**\n",
    "\n",
    ">No. We are using a public dataset from [Kaggle](https://www.kaggle.com/cnic92/beat-us-stock-market-data), that contains information about over 630 companies from the technology sector of the US stock market.\n",
    "\n",
    "**Did you consider whether the question could be answered with the available data?**\n",
    "\n",
    ">The dataset that we will be using only has information about aprominately 640 companies, all of them from the technology sector, which makes it harder to predict stock trends for the entire stock market."
   ]
  },
  {
   "cell_type": "markdown",
   "metadata": {},
   "source": [
    "Required libraries\n",
    "[[ go back to the top ]](#Table-of-contents)\n",
    "\n",
    "If you don't have Python on your computer, you can use the Anaconda Python distribution to install most of the Python packages you need. Anaconda provides a simple double-click installer for your convenience.\n",
    "\n",
    "This notebook uses several Python packages that come standard with the Anaconda Python distribution. The primary libraries that we'll be using are:\n",
    "\n",
    "* **NumPy**: Provides a fast numerical array structure and helper functions.\n",
    "* **pandas**: Provides a DataFrame structure to store data in memory and work with it easily and efficiently.\n",
    "* **scikit-learn**: The essential Machine Learning package in Python.\n",
    "* **matplotlib**: Basic plotting library in Python; most other Python plotting libraries are built on top of it.\n",
    "* **Seaborn**: Advanced statistical plotting library.\n",
    "\n",
    "To make sure you have all of the packages you need, install them with `conda`:\n",
    "\n",
    "    conda install numpy pandas scikit-learn matplotlib seaborn\n",
    "    \n",
    "    conda install -c conda-forge watermark\n",
    "\n",
    "conda install -c conda-forge watermark"
   ]
  },
  {
   "cell_type": "markdown",
   "metadata": {},
   "source": [
    "## Step 1: Checking the data"
   ]
  },
  {
   "cell_type": "markdown",
   "metadata": {},
   "source": [
    "The first step in any data science related problem is to look at the data we are working with. We need to check if there are any errors with the data, or if something needs to be fixed or removed.\n",
    "Our dataset contains 2 different files: one of them has information relative to the 10-k fillings of the companies in 2018, and the other one has information about the price variation of the companies in 2019."
   ]
  },
  {
   "cell_type": "code",
   "execution_count": 3,
   "metadata": {},
   "outputs": [
    {
     "data": {
      "text/html": [
       "<div>\n",
       "<style scoped>\n",
       "    .dataframe tbody tr th:only-of-type {\n",
       "        vertical-align: middle;\n",
       "    }\n",
       "\n",
       "    .dataframe tbody tr th {\n",
       "        vertical-align: top;\n",
       "    }\n",
       "\n",
       "    .dataframe thead th {\n",
       "        text-align: right;\n",
       "    }\n",
       "</style>\n",
       "<table border=\"1\" class=\"dataframe\">\n",
       "  <thead>\n",
       "    <tr style=\"text-align: right;\">\n",
       "      <th></th>\n",
       "      <th>2019 PRICE VAR [%]</th>\n",
       "    </tr>\n",
       "  </thead>\n",
       "  <tbody>\n",
       "    <tr>\n",
       "      <th>count</th>\n",
       "      <td>657.000000</td>\n",
       "    </tr>\n",
       "    <tr>\n",
       "      <th>mean</th>\n",
       "      <td>28.340367</td>\n",
       "    </tr>\n",
       "    <tr>\n",
       "      <th>std</th>\n",
       "      <td>60.689309</td>\n",
       "    </tr>\n",
       "    <tr>\n",
       "      <th>min</th>\n",
       "      <td>-98.760417</td>\n",
       "    </tr>\n",
       "    <tr>\n",
       "      <th>25%</th>\n",
       "      <td>-8.446871</td>\n",
       "    </tr>\n",
       "    <tr>\n",
       "      <th>50%</th>\n",
       "      <td>22.631823</td>\n",
       "    </tr>\n",
       "    <tr>\n",
       "      <th>75%</th>\n",
       "      <td>58.259263</td>\n",
       "    </tr>\n",
       "    <tr>\n",
       "      <th>max</th>\n",
       "      <td>478.821387</td>\n",
       "    </tr>\n",
       "  </tbody>\n",
       "</table>\n",
       "</div>"
      ],
      "text/plain": [
       "       2019 PRICE VAR [%]\n",
       "count          657.000000\n",
       "mean            28.340367\n",
       "std             60.689309\n",
       "min            -98.760417\n",
       "25%             -8.446871\n",
       "50%             22.631823\n",
       "75%             58.259263\n",
       "max            478.821387"
      ]
     },
     "execution_count": 3,
     "metadata": {},
     "output_type": "execute_result"
    }
   ],
   "source": [
    "import pandas as pd\n",
    "data_2018 = pd.read_csv(\"archive/Example_DATASET.csv\", na_values=['NA'])\n",
    "data_2019 = pd.read_csv(\"archive/Example_2019_price_var.csv\", na_values=['NA'])\n"
   ]
  },
  {
   "cell_type": "markdown",
   "metadata": {},
   "source": [
    "It seems like the length of the dataframes does not match. To fix this issue, we will merge both of them into one single dataframe. To do so we need to name the first column, which contains the name of the stock. "
   ]
  },
  {
   "cell_type": "code",
   "execution_count": 29,
   "metadata": {},
   "outputs": [
    {
     "data": {
      "text/html": [
       "<div>\n",
       "<style scoped>\n",
       "    .dataframe tbody tr th:only-of-type {\n",
       "        vertical-align: middle;\n",
       "    }\n",
       "\n",
       "    .dataframe tbody tr th {\n",
       "        vertical-align: top;\n",
       "    }\n",
       "\n",
       "    .dataframe thead th {\n",
       "        text-align: right;\n",
       "    }\n",
       "</style>\n",
       "<table border=\"1\" class=\"dataframe\">\n",
       "  <thead>\n",
       "    <tr style=\"text-align: right;\">\n",
       "      <th></th>\n",
       "      <th>Revenue</th>\n",
       "      <th>Revenue Growth</th>\n",
       "      <th>Cost of Revenue</th>\n",
       "      <th>Gross Profit</th>\n",
       "      <th>SG&amp;A Expense</th>\n",
       "      <th>Operating Expenses</th>\n",
       "      <th>Operating Income</th>\n",
       "      <th>Earnings before Tax</th>\n",
       "      <th>Net Income</th>\n",
       "      <th>Net Income Com</th>\n",
       "      <th>...</th>\n",
       "      <th>Weighted Average Shares Growth</th>\n",
       "      <th>Weighted Average Shares Diluted Growth</th>\n",
       "      <th>Operating Cash Flow growth</th>\n",
       "      <th>Free Cash Flow growth</th>\n",
       "      <th>Receivables growth</th>\n",
       "      <th>Asset Growth</th>\n",
       "      <th>Book Value per Share Growth</th>\n",
       "      <th>SG&amp;A Expenses Growth</th>\n",
       "      <th>class</th>\n",
       "      <th>2019 PRICE VAR [%]</th>\n",
       "    </tr>\n",
       "  </thead>\n",
       "  <tbody>\n",
       "    <tr>\n",
       "      <th>count</th>\n",
       "      <td>6.380000e+02</td>\n",
       "      <td>638.000000</td>\n",
       "      <td>6.380000e+02</td>\n",
       "      <td>6.380000e+02</td>\n",
       "      <td>6.380000e+02</td>\n",
       "      <td>6.380000e+02</td>\n",
       "      <td>6.380000e+02</td>\n",
       "      <td>6.380000e+02</td>\n",
       "      <td>6.380000e+02</td>\n",
       "      <td>6.380000e+02</td>\n",
       "      <td>...</td>\n",
       "      <td>638.000000</td>\n",
       "      <td>638.000000</td>\n",
       "      <td>638.000000</td>\n",
       "      <td>638.000000</td>\n",
       "      <td>638.000000</td>\n",
       "      <td>638.000000</td>\n",
       "      <td>638.000000</td>\n",
       "      <td>638.000000</td>\n",
       "      <td>638.000000</td>\n",
       "      <td>638.000000</td>\n",
       "    </tr>\n",
       "    <tr>\n",
       "      <th>mean</th>\n",
       "      <td>4.313656e+09</td>\n",
       "      <td>0.200593</td>\n",
       "      <td>2.418867e+09</td>\n",
       "      <td>1.893674e+09</td>\n",
       "      <td>6.838895e+08</td>\n",
       "      <td>1.209286e+09</td>\n",
       "      <td>6.849852e+08</td>\n",
       "      <td>6.876940e+08</td>\n",
       "      <td>5.387035e+08</td>\n",
       "      <td>5.365020e+08</td>\n",
       "      <td>...</td>\n",
       "      <td>0.327554</td>\n",
       "      <td>0.354594</td>\n",
       "      <td>0.024223</td>\n",
       "      <td>0.342144</td>\n",
       "      <td>0.282030</td>\n",
       "      <td>0.160931</td>\n",
       "      <td>0.134593</td>\n",
       "      <td>0.112316</td>\n",
       "      <td>0.706897</td>\n",
       "      <td>29.000660</td>\n",
       "    </tr>\n",
       "    <tr>\n",
       "      <th>std</th>\n",
       "      <td>1.832010e+10</td>\n",
       "      <td>1.236156</td>\n",
       "      <td>1.060182e+10</td>\n",
       "      <td>8.412074e+09</td>\n",
       "      <td>2.367724e+09</td>\n",
       "      <td>5.087444e+09</td>\n",
       "      <td>4.005216e+09</td>\n",
       "      <td>4.214649e+09</td>\n",
       "      <td>3.416454e+09</td>\n",
       "      <td>3.416642e+09</td>\n",
       "      <td>...</td>\n",
       "      <td>4.700736</td>\n",
       "      <td>4.719772</td>\n",
       "      <td>10.419881</td>\n",
       "      <td>6.941349</td>\n",
       "      <td>1.567491</td>\n",
       "      <td>0.453783</td>\n",
       "      <td>1.487802</td>\n",
       "      <td>0.231320</td>\n",
       "      <td>0.455543</td>\n",
       "      <td>60.794866</td>\n",
       "    </tr>\n",
       "    <tr>\n",
       "      <th>min</th>\n",
       "      <td>0.000000e+00</td>\n",
       "      <td>-0.959300</td>\n",
       "      <td>0.000000e+00</td>\n",
       "      <td>-2.970810e+08</td>\n",
       "      <td>7.926000e+05</td>\n",
       "      <td>-6.190000e+05</td>\n",
       "      <td>-1.268450e+09</td>\n",
       "      <td>-1.326000e+09</td>\n",
       "      <td>-4.964000e+09</td>\n",
       "      <td>-4.964000e+09</td>\n",
       "      <td>...</td>\n",
       "      <td>-0.158700</td>\n",
       "      <td>-0.229800</td>\n",
       "      <td>-197.027800</td>\n",
       "      <td>-31.936200</td>\n",
       "      <td>-1.000000</td>\n",
       "      <td>-0.864500</td>\n",
       "      <td>-17.090900</td>\n",
       "      <td>-0.641900</td>\n",
       "      <td>0.000000</td>\n",
       "      <td>-98.760417</td>\n",
       "    </tr>\n",
       "    <tr>\n",
       "      <th>25%</th>\n",
       "      <td>1.027300e+08</td>\n",
       "      <td>0.008600</td>\n",
       "      <td>4.501450e+07</td>\n",
       "      <td>3.723250e+07</td>\n",
       "      <td>2.861450e+07</td>\n",
       "      <td>4.583850e+07</td>\n",
       "      <td>-9.972250e+06</td>\n",
       "      <td>-1.322625e+07</td>\n",
       "      <td>-1.706438e+07</td>\n",
       "      <td>-1.767875e+07</td>\n",
       "      <td>...</td>\n",
       "      <td>-0.000375</td>\n",
       "      <td>-0.002425</td>\n",
       "      <td>-0.217250</td>\n",
       "      <td>-0.316125</td>\n",
       "      <td>-0.037050</td>\n",
       "      <td>-0.032350</td>\n",
       "      <td>-0.106900</td>\n",
       "      <td>-0.013300</td>\n",
       "      <td>0.000000</td>\n",
       "      <td>-8.305380</td>\n",
       "    </tr>\n",
       "    <tr>\n",
       "      <th>50%</th>\n",
       "      <td>4.539775e+08</td>\n",
       "      <td>0.100800</td>\n",
       "      <td>1.950135e+08</td>\n",
       "      <td>2.097740e+08</td>\n",
       "      <td>1.291985e+08</td>\n",
       "      <td>1.934000e+08</td>\n",
       "      <td>8.819500e+06</td>\n",
       "      <td>6.248500e+06</td>\n",
       "      <td>4.420444e+06</td>\n",
       "      <td>4.163274e+06</td>\n",
       "      <td>...</td>\n",
       "      <td>0.014350</td>\n",
       "      <td>0.016250</td>\n",
       "      <td>0.118200</td>\n",
       "      <td>0.126250</td>\n",
       "      <td>0.099400</td>\n",
       "      <td>0.054200</td>\n",
       "      <td>0.035150</td>\n",
       "      <td>0.079900</td>\n",
       "      <td>1.000000</td>\n",
       "      <td>23.690020</td>\n",
       "    </tr>\n",
       "    <tr>\n",
       "      <th>75%</th>\n",
       "      <td>1.896714e+09</td>\n",
       "      <td>0.231325</td>\n",
       "      <td>9.058808e+08</td>\n",
       "      <td>8.405540e+08</td>\n",
       "      <td>4.252228e+08</td>\n",
       "      <td>6.439558e+08</td>\n",
       "      <td>1.660810e+08</td>\n",
       "      <td>1.378770e+08</td>\n",
       "      <td>1.100322e+08</td>\n",
       "      <td>1.090343e+08</td>\n",
       "      <td>...</td>\n",
       "      <td>0.060050</td>\n",
       "      <td>0.078225</td>\n",
       "      <td>0.497250</td>\n",
       "      <td>0.589150</td>\n",
       "      <td>0.282983</td>\n",
       "      <td>0.211925</td>\n",
       "      <td>0.174850</td>\n",
       "      <td>0.188800</td>\n",
       "      <td>1.000000</td>\n",
       "      <td>58.296104</td>\n",
       "    </tr>\n",
       "    <tr>\n",
       "      <th>max</th>\n",
       "      <td>2.655950e+11</td>\n",
       "      <td>29.980400</td>\n",
       "      <td>1.637560e+11</td>\n",
       "      <td>1.018390e+11</td>\n",
       "      <td>2.445900e+10</td>\n",
       "      <td>8.131000e+10</td>\n",
       "      <td>7.089800e+10</td>\n",
       "      <td>7.290300e+10</td>\n",
       "      <td>5.953100e+10</td>\n",
       "      <td>5.953100e+10</td>\n",
       "      <td>...</td>\n",
       "      <td>117.904200</td>\n",
       "      <td>117.904200</td>\n",
       "      <td>73.783500</td>\n",
       "      <td>148.819100</td>\n",
       "      <td>26.980800</td>\n",
       "      <td>3.653900</td>\n",
       "      <td>22.552600</td>\n",
       "      <td>1.944900</td>\n",
       "      <td>1.000000</td>\n",
       "      <td>478.821387</td>\n",
       "    </tr>\n",
       "  </tbody>\n",
       "</table>\n",
       "<p>8 rows × 109 columns</p>\n",
       "</div>"
      ],
      "text/plain": [
       "            Revenue  Revenue Growth  Cost of Revenue  Gross Profit  \\\n",
       "count  6.380000e+02      638.000000     6.380000e+02  6.380000e+02   \n",
       "mean   4.313656e+09        0.200593     2.418867e+09  1.893674e+09   \n",
       "std    1.832010e+10        1.236156     1.060182e+10  8.412074e+09   \n",
       "min    0.000000e+00       -0.959300     0.000000e+00 -2.970810e+08   \n",
       "25%    1.027300e+08        0.008600     4.501450e+07  3.723250e+07   \n",
       "50%    4.539775e+08        0.100800     1.950135e+08  2.097740e+08   \n",
       "75%    1.896714e+09        0.231325     9.058808e+08  8.405540e+08   \n",
       "max    2.655950e+11       29.980400     1.637560e+11  1.018390e+11   \n",
       "\n",
       "       SG&A Expense  Operating Expenses  Operating Income  \\\n",
       "count  6.380000e+02        6.380000e+02      6.380000e+02   \n",
       "mean   6.838895e+08        1.209286e+09      6.849852e+08   \n",
       "std    2.367724e+09        5.087444e+09      4.005216e+09   \n",
       "min    7.926000e+05       -6.190000e+05     -1.268450e+09   \n",
       "25%    2.861450e+07        4.583850e+07     -9.972250e+06   \n",
       "50%    1.291985e+08        1.934000e+08      8.819500e+06   \n",
       "75%    4.252228e+08        6.439558e+08      1.660810e+08   \n",
       "max    2.445900e+10        8.131000e+10      7.089800e+10   \n",
       "\n",
       "       Earnings before Tax    Net Income  Net Income Com  ...  \\\n",
       "count         6.380000e+02  6.380000e+02    6.380000e+02  ...   \n",
       "mean          6.876940e+08  5.387035e+08    5.365020e+08  ...   \n",
       "std           4.214649e+09  3.416454e+09    3.416642e+09  ...   \n",
       "min          -1.326000e+09 -4.964000e+09   -4.964000e+09  ...   \n",
       "25%          -1.322625e+07 -1.706438e+07   -1.767875e+07  ...   \n",
       "50%           6.248500e+06  4.420444e+06    4.163274e+06  ...   \n",
       "75%           1.378770e+08  1.100322e+08    1.090343e+08  ...   \n",
       "max           7.290300e+10  5.953100e+10    5.953100e+10  ...   \n",
       "\n",
       "       Weighted Average Shares Growth  Weighted Average Shares Diluted Growth  \\\n",
       "count                      638.000000                              638.000000   \n",
       "mean                         0.327554                                0.354594   \n",
       "std                          4.700736                                4.719772   \n",
       "min                         -0.158700                               -0.229800   \n",
       "25%                         -0.000375                               -0.002425   \n",
       "50%                          0.014350                                0.016250   \n",
       "75%                          0.060050                                0.078225   \n",
       "max                        117.904200                              117.904200   \n",
       "\n",
       "       Operating Cash Flow growth  Free Cash Flow growth  Receivables growth  \\\n",
       "count                  638.000000             638.000000          638.000000   \n",
       "mean                     0.024223               0.342144            0.282030   \n",
       "std                     10.419881               6.941349            1.567491   \n",
       "min                   -197.027800             -31.936200           -1.000000   \n",
       "25%                     -0.217250              -0.316125           -0.037050   \n",
       "50%                      0.118200               0.126250            0.099400   \n",
       "75%                      0.497250               0.589150            0.282983   \n",
       "max                     73.783500             148.819100           26.980800   \n",
       "\n",
       "       Asset Growth  Book Value per Share Growth  SG&A Expenses Growth  \\\n",
       "count    638.000000                   638.000000            638.000000   \n",
       "mean       0.160931                     0.134593              0.112316   \n",
       "std        0.453783                     1.487802              0.231320   \n",
       "min       -0.864500                   -17.090900             -0.641900   \n",
       "25%       -0.032350                    -0.106900             -0.013300   \n",
       "50%        0.054200                     0.035150              0.079900   \n",
       "75%        0.211925                     0.174850              0.188800   \n",
       "max        3.653900                    22.552600              1.944900   \n",
       "\n",
       "            class  2019 PRICE VAR [%]  \n",
       "count  638.000000          638.000000  \n",
       "mean     0.706897           29.000660  \n",
       "std      0.455543           60.794866  \n",
       "min      0.000000          -98.760417  \n",
       "25%      0.000000           -8.305380  \n",
       "50%      1.000000           23.690020  \n",
       "75%      1.000000           58.296104  \n",
       "max      1.000000          478.821387  \n",
       "\n",
       "[8 rows x 109 columns]"
      ]
     },
     "execution_count": 29,
     "metadata": {},
     "output_type": "execute_result"
    }
   ],
   "source": [
    "data_2018.columns.values[0] = \"Name\"\n",
    "data_2019.columns.values[0] = \"Name\"\n",
    "\n",
    "full_data = pd.merge(data_2018, data_2019, on='Name', how='inner')\n",
    "full_data.describe()"
   ]
  },
  {
   "cell_type": "markdown",
   "metadata": {},
   "source": [
    "We're in luck! It seems like our data does not have any null's or Nan's cells which makes our preprocessing task way easier. The labels that we want to classify are already correctly placed in the dataframe (in the 'class' column). However, we notice that our dataset contains only 638 unique values, which means that our model should not be applied in a real life scenario.\n",
    "Now let's take a look at how balanced is our dataset."
   ]
  },
  {
   "cell_type": "code",
   "execution_count": 15,
   "metadata": {},
   "outputs": [
    {
     "data": {
      "text/plain": [
       "<AxesSubplot:>"
      ]
     },
     "execution_count": 15,
     "metadata": {},
     "output_type": "execute_result"
    },
    {
     "data": {
      "image/png": "[encoded data removed]",
      "text/plain": [
       "<Figure size 432x288 with 1 Axes>"
      ]
     },
     "metadata": {
      "needs_background": "light"
     },
     "output_type": "display_data"
    }
   ],
   "source": [
    "import matplotlib.pyplot as plt\n",
    "full_data['class'].hist()"
   ]
  },
  {
   "cell_type": "markdown",
   "metadata": {},
   "source": [
    "It seems like the dataframe is unbalanced, as most of the companies registered a positive price variation in 2019. This will be taken into account while evaluating the results."
   ]
  },
  {
   "cell_type": "markdown",
   "metadata": {},
   "source": [
    "The dataframe has 109 columns that may have duplicate or irrelevant information. This may increase the time it takes for our models to be trained, without resulting in better precision. \n",
    "To eliminate this data, we will use the correlation matrix. If the correlation between 2 columns is higher than 0.95, one of them can be dropped. "
   ]
  },
  {
   "cell_type": "code",
   "execution_count": 30,
   "metadata": {},
   "outputs": [
    {
     "name": "stdout",
     "output_type": "stream",
     "text": [
      "Dropped  48  columns\n"
     ]
    }
   ],
   "source": [
    "import numpy as np\n",
    "# Create correlation matrix\n",
    "previous_columns = len(full_data.columns)\n",
    "corr_matrix = full_data.corr().abs()\n",
    "\n",
    "# Select upper triangle of correlation matrix\n",
    "upper = corr_matrix.where(np.triu(np.ones(corr_matrix.shape), k=1).astype(np.bool))\n",
    "\n",
    "# Find features with correlation greater than 0.95\n",
    "to_drop = [column for column in upper.columns if any(upper[column] > 0.95)]\n",
    "\n",
    "\n",
    "# Drop features \n",
    "full_data.drop(to_drop, axis=1, inplace=True)\n",
    "\n",
    "print(\"Dropped \", previous_columns - len(full_data.columns), \" columns\")\n"
   ]
  },
  {
   "cell_type": "markdown",
   "metadata": {},
   "source": [
    "Great! We managed to drop 48 irrelevant columns.\n",
    "Since our data does not contain outliers, we are ready to advance to the next step: applying the models."
   ]
  },
  {
   "cell_type": "markdown",
   "metadata": {},
   "source": [
    "## Classification\n",
    "\n",
    "Now that we made sure our data is clean, we are ready to start modeling it!\n",
    "Before we start classifying our data, we need to split it into a training set and a testing set. We will be using 80% of the data for training and 20% for testing. Since we have an unbalanced dataframe, we will stratify the data to make sure that the percentages of each class are similar in each split."
   ]
  },
  {
   "cell_type": "code",
   "execution_count": 33,
   "metadata": {},
   "outputs": [],
   "source": [
    "from sklearn.model_selection import train_test_split\n",
    "all_inputs = full_data.drop(columns=[\"class\", \"Name\", \"2019 PRICE VAR [%]\"])\n",
    "all_labels = full_data['class'].values\n",
    "\n",
    "\n",
    "(training_inputs,\n",
    "  testing_inputs,\n",
    "  training_classes,\n",
    "  testing_classes) = train_test_split(all_inputs, all_labels, test_size=0.2, stratify=full_data.drop(columns=[\"Name\", \"2019 PRICE VAR [%]\"], inplace=True), random_state=1)\n"
   ]
  },
  {
   "cell_type": "markdown",
   "metadata": {},
   "source": [
    "Before applying machine learning models to our data, there is one thing left to do: standardization of the data. We leverage the StandardScaler class from scikit-learn. If we didn't take this step, some estimators might behave badly if the individual features do not more or less look like standard normally distributed data.It is important to use the same coefficients for both training and test data. The scaler will be applied to all classifiers used."
   ]
  },
  {
   "cell_type": "code",
   "execution_count": 34,
   "metadata": {},
   "outputs": [],
   "source": [
    "from sklearn.preprocessing import StandardScaler\n",
    "scaler = StandardScaler()\n",
    "\n",
    "scaler.fit(training_inputs)\n",
    "\n",
    "inputs_train = scaler.transform(training_inputs)\n",
    "inputs_test = scaler.transform(testing_inputs)"
   ]
  },
  {
   "cell_type": "markdown",
   "metadata": {},
   "source": [
    "To avoid overfitting, we will be using cross validation for testing. We chose to use a 10-fold cross-validation as it is the most popular number of splits."
   ]
  },
  {
   "cell_type": "code",
   "execution_count": 35,
   "metadata": {},
   "outputs": [],
   "source": [
    "from sklearn.model_selection import StratifiedKFold\n",
    "cross_validation = StratifiedKFold(n_splits=10)"
   ]
  },
  {
   "cell_type": "markdown",
   "metadata": {},
   "source": [
    "### Decision trees\n",
    "Now we have everything we need to start modeling the data. Let's start with a decision tree classifier."
   ]
  },
  {
   "cell_type": "markdown",
   "metadata": {},
   "source": [
    "Since we are aiming towards the best possible score, we will be using GridSearch for hyperparameter tuning. The estimator we are using is **DecisionTreeClassifier** from scikit-learn, which accepts different parameters that can be changed in order to improve the results obtained. \n",
    "We are trying to find the best combination between 4 different parameters, that maximize the 'precision_weighted' score, as we know that the labels are unbalanced."
   ]
  },
  {
   "cell_type": "code",
   "execution_count": 58,
   "metadata": {},
   "outputs": [
    {
     "name": "stdout",
     "output_type": "stream",
     "text": [
      "Best score, and parameters, found on development set:\n",
      "\n",
      "0.744 for {'criterion': 'entropy', 'max_depth': 2, 'max_features': 'sqrt', 'splitter': 'best'}\n",
      "\n"
     ]
    }
   ],
   "source": [
    "from sklearn.tree import DecisionTreeClassifier\n",
    "from sklearn.model_selection import GridSearchCV\n",
    "import sklearn.tree as tree\n",
    "%matplotlib inline\n",
    "import warnings\n",
    "warnings.filterwarnings('ignore')\n",
    "\n",
    "decision_tree_classifier = DecisionTreeClassifier()\n",
    "DTParameters = {'criterion': ['gini', 'entropy'],\n",
    "                  'splitter': ['best', 'random'],\n",
    "                  'max_depth': [2, 3, 4, 5],\n",
    "                  'max_features': ['auto', 'sqrt', 'log2'],\n",
    "                  }\n",
    "\n",
    "\n",
    "\n",
    "dtgs = GridSearchCV(decision_tree_classifier,\n",
    "                            param_grid=DTParameters,\n",
    "                            cv=cross_validation,\n",
    "                            scoring = \"precision_weighted\")\n",
    "\n",
    "\n",
    "dtgs.fit(inputs_train, training_classes)\n",
    "\n",
    "predictions_train = dtgs.predict(inputs_train)\n",
    "predictions_test = dtgs.predict(inputs_test)\n",
    "\n",
    "\n",
    "with open('decision_tree.dot', 'w') as out_file:\n",
    "    out_file = tree.export_graphviz(dtgs.best_estimator_ , out_file=out_file)\n",
    "    \n",
    "print('Best score, and parameters, found on development set:')\n",
    "print()\n",
    "print('%0.3f for %r' % (dtgs.best_score_, dtgs.best_params_))\n",
    "print()\n"
   ]
  },
  {
   "attachments": {
    "image.png": {
     "image/png": "[encoded data removed]"
    }
   },
   "cell_type": "markdown",
   "metadata": {},
   "source": [
    "We got a precision_weighted score of 74.4%, which is pretty good. Here is the generated tree: \n",
    "\n",
    "![image.png](attachment:image.png)\n",
    "Now, let's use the model created to predict the values in training and testing set to detect possible overfitting. "
   ]
  },
  {
   "cell_type": "code",
   "execution_count": 59,
   "metadata": {},
   "outputs": [
    {
     "name": "stdout",
     "output_type": "stream",
     "text": [
      "Testing set Confusion Matrix \n",
      "[[ 6 30]\n",
      " [ 1 91]]\n",
      "Training set accuracy:  0.7470588235294118\n",
      "Testing set accuracy:  0.7578125\n",
      "Classification report:\n",
      "              precision    recall  f1-score   support\n",
      "\n",
      "      IGNORE       0.86      0.17      0.28        36\n",
      "         BUY       0.75      0.99      0.85        92\n",
      "\n",
      "    accuracy                           0.76       128\n",
      "   macro avg       0.80      0.58      0.57       128\n",
      "weighted avg       0.78      0.76      0.69       128\n",
      "\n"
     ]
    }
   ],
   "source": [
    "from sklearn.metrics import classification_report, confusion_matrix, accuracy_score\n",
    "predictions_train = dtgs.predict(inputs_train)\n",
    "predictions_test = dtgs.predict(inputs_test)\n",
    "\n",
    "print(\"Testing set Confusion Matrix \")\n",
    "print(confusion_matrix(testing_classes, predictions_test))\n",
    "\n",
    "print(\"Training set accuracy: \", accuracy_score(training_classes, predictions_train))\n",
    "print(\"Testing set accuracy: \", accuracy_score(testing_classes, predictions_test))\n",
    "\n",
    "print(\"Classification report:\")\n",
    "report_dtrees = classification_report(testing_classes, predictions_test, target_names=['IGNORE', 'BUY'])\n",
    "print(report_dtrees)\n"
   ]
  },
  {
   "cell_type": "markdown",
   "metadata": {},
   "source": [
    "As we can see, both training and testing scores are similar, which is a good indicative that our model is not overfitting the training data."
   ]
  },
  {
   "cell_type": "markdown",
   "metadata": {},
   "source": [
    "### Neural networks\n",
    "\n",
    "After achieving promising results with the decision tree classifier, we will now explore the **MLPClassifier** class. "
   ]
  },
  {
   "cell_type": "code",
   "execution_count": 67,
   "metadata": {},
   "outputs": [
    {
     "name": "stdout",
     "output_type": "stream",
     "text": [
      "Best score, and parameters, found on development set:\n",
      "\n",
      "0.748 for {'activation': 'relu', 'alpha': 0.05, 'hidden_layer_sizes': (64,), 'learning_rate': 'adaptive', 'power_t': 0.75, 'solver': 'sgd'}\n",
      "\n"
     ]
    }
   ],
   "source": [
    "from sklearn.neural_network import MLPClassifier\n",
    "neural_network_classifier = MLPClassifier()\n",
    "\n",
    "MLPParameters = {\n",
    "    \"learning_rate\": [\"adaptive\", \"constant\"],\n",
    "    \"alpha\": [0.0001, 0.05],\n",
    "    \"power_t\": [0.25, 0.5, 0.75],\n",
    "    'activation': ['tanh', 'relu', \"logistic\"],\n",
    "    'hidden_layer_sizes': [(32,), (64,), (32, 64, 32)],\n",
    "    'solver': ['adam', 'sgd']\n",
    "  }\n",
    "\n",
    "\n",
    "mlpgs = GridSearchCV(neural_network_classifier, MLPParameters, n_jobs=-1, scoring = \"precision_weighted\", cv = cross_validation)\n",
    "\n",
    "mlpgs.fit(inputs_train, training_classes)\n",
    "\n",
    "print('Best score, and parameters, found on development set:')\n",
    "print()\n",
    "print('%0.3f for %r' % (mlpgs.best_score_, mlpgs.best_params_))\n",
    "print()"
   ]
  },
  {
   "cell_type": "markdown",
   "metadata": {},
   "source": [
    "Using multi-layer perceptron, we managed to get a precision score of 74,8%, which is slightly superior to the decision tree model. However, due to the high number of parameters passed tried in grid search, finding this model takes significantly more time than the previous classifier.   \n",
    "Now let's print the results for this estimator.\n"
   ]
  },
  {
   "cell_type": "code",
   "execution_count": 70,
   "metadata": {},
   "outputs": [
    {
     "name": "stdout",
     "output_type": "stream",
     "text": [
      "Testing set Confusion Matrix \n",
      "[[ 2 34]\n",
      " [ 4 88]]\n",
      "Training accuracy:  0.7490196078431373\n",
      "Testing accuracy:  0.703125\n",
      "              precision    recall  f1-score   support\n",
      "\n",
      "      IGNORE       0.87      0.18      0.30       151\n",
      "         BUY       0.74      0.99      0.85       359\n",
      "\n",
      "    accuracy                           0.75       510\n",
      "   macro avg       0.81      0.58      0.57       510\n",
      "weighted avg       0.78      0.75      0.68       510\n",
      "\n",
      "              precision    recall  f1-score   support\n",
      "\n",
      "      IGNORE       0.33      0.06      0.10        36\n",
      "         BUY       0.72      0.96      0.82        92\n",
      "\n",
      "    accuracy                           0.70       128\n",
      "   macro avg       0.53      0.51      0.46       128\n",
      "weighted avg       0.61      0.70      0.62       128\n",
      "\n"
     ]
    }
   ],
   "source": [
    "predictions_train = mlpgs.predict(inputs_train)\n",
    "predictions_test = mlpgs.predict(inputs_test)\n",
    "\n",
    "print(\"Testing set Confusion Matrix \")\n",
    "print(confusion_matrix(testing_classes, predictions_test))\n",
    "\n",
    "print(\"Training accuracy: \", accuracy_score(training_classes, predictions_train))\n",
    "print(\"Testing accuracy: \", accuracy_score(testing_classes, predictions_test))\n",
    "print(classification_report(training_classes, predictions_train, target_names=['IGNORE', 'BUY']))\n",
    "print(classification_report(testing_classes, predictions_test, target_names=['IGNORE', 'BUY']))"
   ]
  },
  {
   "cell_type": "markdown",
   "metadata": {},
   "source": []
  }
 ],
 "metadata": {
  "kernelspec": {
   "display_name": "Python 3",
   "language": "python",
   "name": "python3"
  },
  "language_info": {
   "codemirror_mode": {
    "name": "ipython",
    "version": 3
   },
   "file_extension": ".py",
   "mimetype": "text/x-python",
   "name": "python",
   "nbconvert_exporter": "python",
   "pygments_lexer": "ipython3",
   "version": "3.8.5"
  }
 },
 "nbformat": 4,
 "nbformat_minor": 4
}
